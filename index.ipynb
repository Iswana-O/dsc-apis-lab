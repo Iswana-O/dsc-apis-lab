{
 "cells": [
  {
   "cell_type": "markdown",
   "metadata": {},
   "source": [
    "# APIs - Cumulative Lab\n",
    "\n",
    "\n",
    "## Introduction \n",
    "\n",
    "We've seen how the Yelp API works and how to create basic visualizations using Folium. It's time to put those skills to work in order to create a working map! Taking things a step further, you'll also independently explore how to perform pagination in order to retrieve a full results set from the Yelp API.\n",
    "\n",
    "## Objectives\n",
    "\n",
    "You will be able to: \n",
    "\n",
    "* Practice using functions to organize your code\n",
    "* Use pagination to retrieve all results from an API query\n",
    "* Practice parsing data returned from an API query\n",
    "* Practice interpreting visualizations of a dataset\n",
    "* Create maps using Folium"
   ]
  },
  {
   "cell_type": "markdown",
   "metadata": {},
   "source": [
    "## Your Task: Query Yelp for All Businesses in a Category and Analyze the Results\n",
    "\n",
    "![restaurant counter with pizza](images/restaurant_counter.jpg)\n",
    "\n",
    "Photo by <a href=\"https://unsplash.com/@jordanmadrid?utm_source=unsplash&utm_medium=referral&utm_content=creditCopyText\">Jordan Madrid</a> on <a href=\"/s/photos/pizza-restaurant?utm_source=unsplash&utm_medium=referral&utm_content=creditCopyText\">Unsplash</a>"
   ]
  },
  {
   "cell_type": "markdown",
   "metadata": {},
   "source": [
    "### Overview\n",
    "\n",
    "You've now worked with some API calls, but we have yet to see how to retrieve a more complete dataset in a programmatic manner. In this lab, you will write a query of businesses on Yelp, then use *pagination* to retrieve all possible results for that query. Then you will create a summary of your findings, including a Folium map of the geographic locations of those businesses.\n",
    "\n",
    "### Technical Details\n",
    "\n",
    "Returning to the Yelp API, the [documentation](https://www.yelp.com/developers/documentation/v3/business_search) also provides us details regarding the **API limits**. These often include details about the number of requests a user is allowed to make within a specified time limit and the maximum number of results to be returned. In this case, we are told that any request has a **maximum of 50 results per request** and defaults to 20. Furthermore, any search will be limited to a **total of 1000 results**. To retrieve all 1000 of these results, we would have to page through the results piece by piece, retrieving 50 at a time. Processes such as these are often referred to as pagination.\n",
    "\n",
    "Also, be mindful of the **API** ***rate*** **limits**. You can only make **5000 requests per day** and can make requests too fast. Start prototyping small before running a loop that could be faulty. You can also use `time.sleep(n)` to add delays. For more details see https://www.yelp.com/developers/documentation/v3/rate_limiting.\n",
    "\n",
    "In this lab, you will define a search and then paginate over the results to retrieve all of the results. You'll then parse these responses as a list of dictionaries (for further exploration) and create a map using Folium to visualize the results geographically.\n",
    "\n",
    "### Requirements\n",
    "\n",
    "#### 1. Make the Initial Request\n",
    "\n",
    "Start by filling in your API key to make the initial request to the business search API. Investigate the structure of the response you get back and start figuring out how you will extract the relevant information.\n",
    "\n",
    "#### 2. Add Pagination\n",
    "\n",
    "Using loops and functions, collect the maximum number of results for your query from the API.\n",
    "\n",
    "#### 3. Perform Exploratory Analysis\n",
    "\n",
    "Interpret visualizations related to the price range, average rating, and number of reviews for all query results.\n",
    "\n",
    "#### 4. Create a Folium Map\n",
    "\n",
    "Using latitude and longitude data, plot the query results on an interactive map."
   ]
  },
  {
   "cell_type": "markdown",
   "metadata": {},
   "source": [
    "## 1. Make the Initial Request\n",
    "\n",
    "### Querying\n",
    "\n",
    "Start by making an initial request to the Yelp API. Your search must include at least 2 parameters: **term** and **location**. For example, you might search for pizza restaurants in NYC. The term and location is up to you but make the request below.\n",
    "\n",
    "Use the `requests` library ([documentation here](https://requests.readthedocs.io/en/master/user/quickstart/#make-a-request)).\n",
    "\n",
    "You'll also need an API key from Yelp. If you haven't done this already, go to the Yelp [Manage App page](https://www.yelp.com/developers/v3/manage_app) and create a new app (after making an account if you haven't already)."
   ]
  },
  {
   "cell_type": "code",
   "execution_count": 1,
   "metadata": {},
   "outputs": [
    {
     "data": {
      "text/plain": [
       "<Response [200]>"
      ]
     },
     "execution_count": 1,
     "metadata": {},
     "output_type": "execute_result"
    }
   ],
   "source": [
    "# Replace None with appropriate code\n",
    "\n",
    "# Import the requests library\n",
    "import requests\n",
    "\n",
    "# Get this from the \"Manage App\" page. Make sure you set them\n",
    "# back to None before pushing this to GitHub, since otherwise\n",
    "# your credentials will be compromised\n",
    "api_key = none\n",
    "\n",
    "# These can be whatever you want! But the solution uses \"pizza\"\n",
    "# and \"New York NY\" if you want to compare your work directly\n",
    "term = 'Croissant'\n",
    "location = 'Paris'\n",
    "\n",
    "# Set up params for request\n",
    "url = \"https://api.yelp.com/v3/businesses/search\"\n",
    "headers = {\n",
    "    \"Authorization\": \"Bearer {}\".format(api_key)\n",
    "}\n",
    "url_params = {\n",
    "    \"term\": term.replace(\" \", \"+\"),\n",
    "    \"location\": location.replace(\" \", \"+\")\n",
    "}\n",
    "\n",
    "# Make the request using requests.get, passing in\n",
    "# url, headers=headers, and params=url_params\n",
    "response = requests.get(url, headers=headers, params=url_params)\n",
    "# Confirm we got a 200 response\n",
    "response"
   ]
  },
  {
   "cell_type": "code",
   "execution_count": 2,
   "metadata": {},
   "outputs": [
    {
     "data": {
      "text/plain": [
       "dict_keys(['businesses', 'total', 'region'])"
      ]
     },
     "execution_count": 2,
     "metadata": {},
     "output_type": "execute_result"
    }
   ],
   "source": [
    "# Run this cell without changes\n",
    "\n",
    "# Get the response body in JSON format\n",
    "response_json = response.json()\n",
    "# View the keys\n",
    "response_json.keys()"
   ]
  },
  {
   "cell_type": "markdown",
   "metadata": {},
   "source": [
    "### Extracting Data\n",
    "\n",
    "Now, retrieve the value associated with the `'businesses'` key, and inspect its contents."
   ]
  },
  {
   "cell_type": "code",
   "execution_count": 3,
   "metadata": {},
   "outputs": [
    {
     "data": {
      "text/plain": [
       "[{'id': 'iuuAbuOeayVwqhxYWHuGRA',\n",
       "  'alias': 'la-maison-d-isabelle-paris',\n",
       "  'name': \"La Maison d'Isabelle\",\n",
       "  'image_url': 'https://s3-media3.fl.yelpcdn.com/bphoto/EtUeLd18mv3kL2I-A-FNBw/o.jpg',\n",
       "  'is_closed': False,\n",
       "  'url': 'https://www.yelp.com/biz/la-maison-d-isabelle-paris?adjust_creative=H7TOJFwbiM-8N3koqzTUFQ&utm_campaign=yelp_api_v3&utm_medium=api_v3_business_search&utm_source=H7TOJFwbiM-8N3koqzTUFQ',\n",
       "  'review_count': 88,\n",
       "  'categories': [{'alias': 'bakeries', 'title': 'Bakeries'}],\n",
       "  'rating': 5.0,\n",
       "  'coordinates': {'latitude': 48.849847, 'longitude': 2.348264},\n",
       "  'transactions': [],\n",
       "  'price': '€',\n",
       "  'location': {'address1': '47ter boulevard Saint-Germain',\n",
       "   'address2': '',\n",
       "   'address3': None,\n",
       "   'city': 'Paris',\n",
       "   'zip_code': '75005',\n",
       "   'country': 'FR',\n",
       "   'state': '75',\n",
       "   'display_address': ['47ter boulevard Saint-Germain',\n",
       "    '75005 Paris',\n",
       "    'France']},\n",
       "  'phone': '+33143540414',\n",
       "  'display_phone': '+33 1 43 54 04 14',\n",
       "  'distance': 1419.1390529615662},\n",
       " {'id': 'OlKlrqbTx94iMPuakMs0Pw',\n",
       "  'alias': 'du-pain-et-des-idées-paris-10-2',\n",
       "  'name': 'Du Pain et des Idées',\n",
       "  'image_url': 'https://s3-media3.fl.yelpcdn.com/bphoto/dnC4NDpMIz_Ng7N6-VEPXw/o.jpg',\n",
       "  'is_closed': False,\n",
       "  'url': 'https://www.yelp.com/biz/du-pain-et-des-id%C3%A9es-paris-10-2?adjust_creative=H7TOJFwbiM-8N3koqzTUFQ&utm_campaign=yelp_api_v3&utm_medium=api_v3_business_search&utm_source=H7TOJFwbiM-8N3koqzTUFQ',\n",
       "  'review_count': 478,\n",
       "  'categories': [{'alias': 'bakeries', 'title': 'Bakeries'}],\n",
       "  'rating': 4.5,\n",
       "  'coordinates': {'latitude': 48.8712, 'longitude': 2.3628999},\n",
       "  'transactions': [],\n",
       "  'price': '€',\n",
       "  'location': {'address1': '34 rue Yves Toudic',\n",
       "   'address2': None,\n",
       "   'address3': None,\n",
       "   'city': 'Paris 10',\n",
       "   'zip_code': '75010',\n",
       "   'country': 'FR',\n",
       "   'state': '75',\n",
       "   'display_address': ['34 rue Yves Toudic', '75010 Paris 10', 'France']},\n",
       "  'phone': '+33142404452',\n",
       "  'display_phone': '+33 1 42 40 44 52',\n",
       "  'distance': 1835.2944750516774}]"
      ]
     },
     "execution_count": 3,
     "metadata": {},
     "output_type": "execute_result"
    }
   ],
   "source": [
    "# Replace None with appropriate code\n",
    "\n",
    "# Retrieve the value from response_json\n",
    "businesses = response_json[\"businesses\"]\n",
    "\n",
    "# View the first 2 records\n",
    "businesses[:2]"
   ]
  },
  {
   "cell_type": "markdown",
   "metadata": {},
   "source": [
    "### Preparing Data\n",
    "\n",
    "Write a function `prepare_data` that takes in a list of dictionaries like `businesses` and returns a copy that has been prepared for analysis:\n",
    "\n",
    "1. The `coordinates` key-value pair has been converted into two separate key-value pairs, `latitude` and `longitude`\n",
    "2. All other key-value pairs except for `name`, `review_count`, `rating`, and `price` have been dropped\n",
    "3. All dictionaries missing one of the relevant keys or containing null values have been dropped\n",
    "\n",
    "In other words, the final keys for each dictionary should be `name`, `review_count`, `rating`, `price`, `latitude`, and `longitude`.\n",
    "\n",
    "Complete the function in the cell below:"
   ]
  },
  {
   "cell_type": "code",
   "execution_count": 4,
   "metadata": {},
   "outputs": [
    {
     "data": {
      "text/plain": [
       "[{'name': \"La Maison d'Isabelle\",\n",
       "  'review_count': 88,\n",
       "  'rating': 5.0,\n",
       "  'price': '€',\n",
       "  'latitude': 48.849847,\n",
       "  'longitude': 2.348264},\n",
       " {'name': 'Du Pain et des Idées',\n",
       "  'review_count': 478,\n",
       "  'rating': 4.5,\n",
       "  'price': '€',\n",
       "  'latitude': 48.8712,\n",
       "  'longitude': 2.3628999},\n",
       " {'name': 'Boulangerie Julien',\n",
       "  'review_count': 158,\n",
       "  'rating': 4.5,\n",
       "  'price': '€',\n",
       "  'latitude': 48.86109,\n",
       "  'longitude': 2.344109},\n",
       " {'name': 'Blé Sucré',\n",
       "  'review_count': 316,\n",
       "  'rating': 4.5,\n",
       "  'price': '€',\n",
       "  'latitude': 48.850565,\n",
       "  'longitude': 2.376759},\n",
       " {'name': 'Joseph',\n",
       "  'review_count': 35,\n",
       "  'rating': 4.5,\n",
       "  'price': '€',\n",
       "  'latitude': 48.867586,\n",
       "  'longitude': 2.334884}]"
      ]
     },
     "execution_count": 4,
     "metadata": {},
     "output_type": "execute_result"
    }
   ],
   "source": [
    "# Replace None with appropriate code\n",
    "\n",
    "def prepare_data(data_list):\n",
    "    \"\"\"\n",
    "    This function takes in a list of dictionaries and prepares it\n",
    "    for analysis\n",
    "    \"\"\"\n",
    "    \n",
    "    # Make a new list to hold results\n",
    "    results = []\n",
    "    \n",
    "    for business_data in data_list:\n",
    "    \n",
    "        # Make a new dictionary to hold prepared data for this business\n",
    "        prepared_data = {}\n",
    "        \n",
    "        # Extract name, review_count, rating, and price key-value pairs\n",
    "        # from business_data and add to prepared_data\n",
    "        # If a key is not present in business_data, add it to prepared_data\n",
    "        # with an associated value of None\n",
    "        prepared_data['name'] = business_data.get('name', None)\n",
    "        prepared_data['review_count'] = business_data.get('review_count', None)\n",
    "        prepared_data['rating'] = business_data.get('rating', None)\n",
    "        prepared_data['price'] = business_data.get('price', None)\n",
    "    \n",
    "        # Parse and add latitude and longitude columns\n",
    "        try:\n",
    "            coordinates = business_data['coordinates']\n",
    "            prepared_data['latitude'] = coordinates['latitude']\n",
    "            prepared_data['longitude'] = coordinates['longitude']\n",
    "        except KeyError:\n",
    "            prepared_data['latitude'] = None\n",
    "            prepared_data['longitude'] = None\n",
    "        \n",
    "        # Add to list if all values are present\n",
    "        if all(prepared_data.values()):\n",
    "            results.append(prepared_data)\n",
    "    \n",
    "    return results\n",
    "    \n",
    "# Test out function\n",
    "prepared_businesses = prepare_data(businesses)\n",
    "prepared_businesses[:5]"
   ]
  },
  {
   "cell_type": "markdown",
   "metadata": {},
   "source": [
    "Check that your function created the correct keys:"
   ]
  },
  {
   "cell_type": "code",
   "execution_count": 5,
   "metadata": {},
   "outputs": [],
   "source": [
    "# Run this cell without changes\n",
    "\n",
    "assert sorted(list(prepared_businesses[0].keys())) == ['latitude', 'longitude', 'name', 'price', 'rating', 'review_count']"
   ]
  },
  {
   "cell_type": "markdown",
   "metadata": {},
   "source": [
    "The following code will differ depending on your query, but we expect there to be 20 businesses in the original list, and potentially fewer in the prepared list (if any of them were missing data):"
   ]
  },
  {
   "cell_type": "code",
   "execution_count": 6,
   "metadata": {},
   "outputs": [
    {
     "name": "stdout",
     "output_type": "stream",
     "text": [
      "Original: 20\n",
      "Prepared: 19\n"
     ]
    }
   ],
   "source": [
    "# Run this cell without changes\n",
    "print(\"Original:\", len(businesses))\n",
    "print(\"Prepared:\", len(prepared_businesses))"
   ]
  },
  {
   "cell_type": "markdown",
   "metadata": {},
   "source": [
    "Great! We will reuse this function once we have retrieved the full dataset."
   ]
  },
  {
   "cell_type": "markdown",
   "metadata": {},
   "source": [
    "## 2. Add Pagination\n",
    "\n",
    "Now that you are able to extract information from one page of the response, let's figure out how to request as many pages as possible.\n",
    "\n",
    "### Determining the Total\n",
    "\n",
    "Depending on the number of total results for your query, you will either retrieve all of the results, or just the first 1000 (if there are more than 1000 total).\n",
    "\n",
    "We can find the total number of results using the `\"total\"` key:"
   ]
  },
  {
   "cell_type": "code",
   "execution_count": 7,
   "metadata": {},
   "outputs": [
    {
     "data": {
      "text/plain": [
       "1100"
      ]
     },
     "execution_count": 7,
     "metadata": {},
     "output_type": "execute_result"
    }
   ],
   "source": [
    "# Run this cell without changes\n",
    "response_json[\"total\"]"
   ]
  },
  {
   "cell_type": "markdown",
   "metadata": {},
   "source": [
    "(This is specific to the implementation of the Yelp API. Some APIs will just tell you that there are more pages, or will tell you the number of pages total, rather than the total number of results. If you're not sure, always check the documentation.)\n",
    "\n",
    "In the cell below, assign the variable `total` to either the value shown above (if it is less than 1000), or 1000."
   ]
  },
  {
   "cell_type": "code",
   "execution_count": 8,
   "metadata": {},
   "outputs": [],
   "source": [
    "# Replace None with appropriate code\n",
    "total = 1000"
   ]
  },
  {
   "cell_type": "markdown",
   "metadata": {},
   "source": [
    "### Calculating the Offsets\n",
    "\n",
    "The documentation states in the parameters section:\n",
    "\n",
    "> **Name**: `limit`, **Type:** int, **Description:** Optional. Number of business results to return. By default, it will return 20. Maximum is 50.\n",
    "\n",
    "> **Name**: `offset`, **Type:** int, **Description:** Optional. Offset the list of returned business results by this amount.\n",
    "\n",
    "So, to get the most results with the fewest API calls we want to set a limit of 50 every time. If, say, we wanted to get 210 total results, that would mean:\n",
    "\n",
    "1. Offset of `0` (first 50 records)\n",
    "2. Offset of `50` (second 50 records)\n",
    "3. Offset of `100` (third 50 records)\n",
    "4. Offset of `150` (fourth 50 records)\n",
    "5. Offset of `200` (final 10 records)\n",
    "\n",
    "In the cell below, create a function `get_offsets` that takes in a total and returns a list of offsets for that total. You can assume that there is a limit of 50 every time.\n",
    "\n",
    "*Hint: you can use `range` ([documentation here](https://docs.python.org/3.3/library/stdtypes.html?highlight=range#range)) to do this in one line of code. Just make the returned result is a list.*"
   ]
  },
  {
   "cell_type": "code",
   "execution_count": 9,
   "metadata": {},
   "outputs": [],
   "source": [
    "# Replace None with appropriate code\n",
    "def get_offsets(total):\n",
    "    \"\"\"\n",
    "    Get a list of offsets needed to get all pages\n",
    "    of data up until the total\n",
    "    \"\"\"\n",
    "    return list(range(0, total, 50))"
   ]
  },
  {
   "cell_type": "markdown",
   "metadata": {},
   "source": [
    "Check that your function works below:"
   ]
  },
  {
   "cell_type": "code",
   "execution_count": 10,
   "metadata": {},
   "outputs": [],
   "source": [
    "# Run this cell without changes\n",
    "\n",
    "assert get_offsets(200) == [0, 50, 100, 150]\n",
    "assert get_offsets(210) == [0, 50, 100, 150, 200]"
   ]
  },
  {
   "cell_type": "markdown",
   "metadata": {},
   "source": [
    "### Putting It All Together\n",
    "\n",
    "Recall that the following variable has already been declared for you:"
   ]
  },
  {
   "cell_type": "code",
   "execution_count": 11,
   "metadata": {},
   "outputs": [
    {
     "data": {
      "text/plain": [
       "{'term': 'Croissant', 'location': 'Paris'}"
      ]
     },
     "execution_count": 11,
     "metadata": {},
     "output_type": "execute_result"
    }
   ],
   "source": [
    "# Run this cell without changes\n",
    "url_params"
   ]
  },
  {
   "cell_type": "markdown",
   "metadata": {},
   "source": [
    "We'll go ahead and also specify that the limit should be 50 every time:"
   ]
  },
  {
   "cell_type": "code",
   "execution_count": 12,
   "metadata": {},
   "outputs": [],
   "source": [
    "# Run this cell without changes\n",
    "url_params[\"limit\"] = 50"
   ]
  },
  {
   "cell_type": "markdown",
   "metadata": {},
   "source": [
    "In order to modify the offset, you'll need to add it to `url_params` with the key `\"offset\"` and whatever value is needed.\n",
    "\n",
    "In the cell below, write code that:\n",
    "\n",
    "* Creates an empty list for the full prepared dataset\n",
    "* Loops over all of the offsets from `get_offsets` and makes an API call each time with the specified offset\n",
    "* Calls `prepare_data` to get a cleaned version of the result of each API call\n",
    "* Extends the full prepared dataset list with each query's prepared dataset"
   ]
  },
  {
   "cell_type": "code",
   "execution_count": 13,
   "metadata": {},
   "outputs": [
    {
     "data": {
      "text/plain": [
       "832"
      ]
     },
     "execution_count": 13,
     "metadata": {},
     "output_type": "execute_result"
    }
   ],
   "source": [
    "# Replace None with appropriate code\n",
    "\n",
    "# Create an empty list for the full prepared dataset\n",
    "full_dataset = []\n",
    "\n",
    "for offset in get_offsets(total):\n",
    "    # Add or update the \"offset\" key-value pair in url_params\n",
    "    url_params[\"offset\"] = offset\n",
    "    \n",
    "    # Make the query and get the response\n",
    "    response = requests.get(url, headers=headers, params=url_params)\n",
    "    \n",
    "    # Get the response body in JSON format\n",
    "    response_json = response.json()\n",
    "    \n",
    "    # Get the list of businesses from the response_json\n",
    "    businesses = response_json.get(\"businesses\", [])\n",
    "    \n",
    "    # Call the prepare_data function to get a list of processed data\n",
    "    prepared_businesses = prepare_data(businesses)\n",
    "    \n",
    "    # Extend full_dataset with this list (don't append, or you'll get\n",
    "    # a list of lists instead of a flat list)\n",
    "    full_dataset.extend(prepared_businesses)\n",
    "\n",
    "# Check the length of the full dataset. It will be up to `total`,\n",
    "# potentially less if there were missing values\n",
    "len(full_dataset)"
   ]
  },
  {
   "cell_type": "markdown",
   "metadata": {},
   "source": [
    "This code may take up to a few minutes to run.\n",
    "\n",
    "If you get an error trying to get the response body in JSON format, try adding `time.sleep(1)` right after the `requests.get` line, so your code will sleep for 1 second between each API call."
   ]
  },
  {
   "cell_type": "markdown",
   "metadata": {},
   "source": [
    "## 3. Perform Exploratory Analysis\n",
    "\n",
    "Take the businesses from the previous question and do an initial exploratory analysis. We have provided some plots for you to interpret:"
   ]
  },
  {
   "cell_type": "code",
   "execution_count": 14,
   "metadata": {},
   "outputs": [
    {
     "data": {
      "image/png": "[encoded data removed]",
      "text/plain": [
       "<Figure size 1152x360 with 3 Axes>"
      ]
     },
     "metadata": {
      "needs_background": "light"
     },
     "output_type": "display_data"
    }
   ],
   "source": [
    "# Run this cell without changes\n",
    "from collections import Counter\n",
    "import matplotlib.pyplot as plt\n",
    "%matplotlib inline\n",
    "\n",
    "fig, (ax1, ax2, ax3) = plt.subplots(ncols=3, figsize=(16, 5))\n",
    "\n",
    "# Plot distribution of number of reviews\n",
    "all_review_counts = [x[\"review_count\"] for x in full_dataset]\n",
    "ax1.hist(all_review_counts)\n",
    "ax1.set_title(\"Review Count Distribution\")\n",
    "ax1.set_xlabel(\"Number of Reviews\")\n",
    "ax1.set_ylabel(\"Number of Businesses\")\n",
    "\n",
    "# Plot rating distribution\n",
    "all_ratings = [x[\"rating\"] for x in full_dataset]\n",
    "rating_counter = Counter(all_ratings)\n",
    "rating_keys = sorted(rating_counter.keys())\n",
    "ax2.bar(rating_keys, [rating_counter[key] for key in rating_keys])\n",
    "ax2.set_title(\"Rating Distribution\")\n",
    "ax2.set_xlabel(\"Rating\")\n",
    "ax2.set_ylabel(\"Number of Businesses\")\n",
    "\n",
    "# Plot price distribution\n",
    "all_prices = [x[\"price\"].replace(\"$\", r\"\\$\") for x in full_dataset]\n",
    "price_counter = Counter(all_prices)\n",
    "price_keys = sorted(price_counter.keys())\n",
    "ax3.bar(price_keys, [price_counter[key] for key in price_keys])\n",
    "ax3.set_title(\"Price Distribution\")\n",
    "ax3.set_xlabel(\"Price Category\")\n",
    "ax3.set_ylabel(\"Number of Businesses\");"
   ]
  },
  {
   "cell_type": "markdown",
   "metadata": {},
   "source": [
    "Describe the distributions displayed above and interpret them in the context of your query. (Your answer may differ from the solution branch depending on your query.)"
   ]
  },
  {
   "cell_type": "code",
   "execution_count": 15,
   "metadata": {},
   "outputs": [
    {
     "data": {
      "text/plain": [
       "'\\nIn the review count distribution, most businesses have fewer than 5000 reviews, but some businesses have as many as 2000 reviews. This kind of skewed distribution is common in ratings and reviews data \\n\\nTypical rating for croisants businesses in Paris is 4/5\\n\\n\\nPrice is skewed with most busineses falling under ££ price point\\n'"
      ]
     },
     "execution_count": 15,
     "metadata": {},
     "output_type": "execute_result"
    }
   ],
   "source": [
    "# Replace None with appropriate text\n",
    "\"\"\"\n",
    "In the review count distribution, most businesses have fewer than 5000 reviews, but some businesses have as many as 2000 reviews. This kind of skewed distribution is common in ratings and reviews data \n",
    "\n",
    "Typical rating for croisants businesses in Paris is 4/5\n",
    "\n",
    "\n",
    "Price is skewed with most busineses falling under ££ price point\n",
    "\"\"\""
   ]
  },
  {
   "cell_type": "markdown",
   "metadata": {},
   "source": [
    "In the cell below, we also plot the rating distributions by price. In this setup, a price of one dollar sign is \"lower price\" and everything else is \"higher price\"."
   ]
  },
  {
   "cell_type": "code",
   "execution_count": 16,
   "metadata": {},
   "outputs": [
    {
     "name": "stderr",
     "output_type": "stream",
     "text": [
      "C:\\Users\\Admin\\anaconda3\\envs\\learn-env\\lib\\site-packages\\numpy\\lib\\histograms.py:906: RuntimeWarning: invalid value encountered in true_divide\n",
      "  return n/db/n.sum(), bin_edges\n"
     ]
    },
    {
     "data": {
      "image/png": "[encoded data removed]",
      "text/plain": [
       "<Figure size 432x288 with 1 Axes>"
      ]
     },
     "metadata": {
      "needs_background": "light"
     },
     "output_type": "display_data"
    }
   ],
   "source": [
    "# Run this cell without changes\n",
    "\n",
    "higher_price = []\n",
    "lower_price = []\n",
    "for row in full_dataset:\n",
    "    if row[\"price\"] == \"$\":\n",
    "        lower_price.append(row[\"rating\"])\n",
    "    else:\n",
    "        higher_price.append(row[\"rating\"])\n",
    "        \n",
    "fig, ax = plt.subplots()\n",
    "\n",
    "ax.hist([higher_price, lower_price], label=[\"higher price\", \"lower price\"], density=True)\n",
    "\n",
    "ax.legend();"
   ]
  },
  {
   "cell_type": "markdown",
   "metadata": {},
   "source": [
    "Is a higher price associated with a higher rating? (No need for any additional math/statistics, just interpret what you see in the plot.)"
   ]
  },
  {
   "cell_type": "code",
   "execution_count": 17,
   "metadata": {},
   "outputs": [
    {
     "data": {
      "text/plain": [
       "'\\nhigher price seems to be associated with a higher rating.no ratings for lower price\\n'"
      ]
     },
     "execution_count": 17,
     "metadata": {},
     "output_type": "execute_result"
    }
   ],
   "source": [
    "# Replace None with appropriate text\n",
    "\"\"\"\n",
    "higher price seems to be associated with a higher rating.no ratings for lower price\n",
    "\"\"\""
   ]
  },
  {
   "cell_type": "markdown",
   "metadata": {},
   "source": [
    "Finally, let's look at ratings vs. review counts:"
   ]
  },
  {
   "cell_type": "code",
   "execution_count": 18,
   "metadata": {},
   "outputs": [
    {
     "data": {
      "image/png": "[encoded data removed]",
      "text/plain": [
       "<Figure size 1152x360 with 1 Axes>"
      ]
     },
     "metadata": {
      "needs_background": "light"
     },
     "output_type": "display_data"
    }
   ],
   "source": [
    "# Run this cell without changes\n",
    "fig, ax = plt.subplots(figsize=(16,5))\n",
    "\n",
    "ax.scatter(all_review_counts, all_ratings, alpha=0.2)\n",
    "ax.set_xlabel(\"Number of Reviews\")\n",
    "ax.set_ylabel(\"Rating\")\n",
    "# \"zoom in\" to a subset of review counts\n",
    "ax.set_xlim(left=0, right=1000);"
   ]
  },
  {
   "cell_type": "markdown",
   "metadata": {},
   "source": [
    "Is a higher number of reviews associated with a higher rating?"
   ]
  },
  {
   "cell_type": "code",
   "execution_count": 19,
   "metadata": {},
   "outputs": [
    {
     "data": {
      "text/plain": [
       "'\\nhigher number of reviews associated with low ratings\\n'"
      ]
     },
     "execution_count": 19,
     "metadata": {},
     "output_type": "execute_result"
    }
   ],
   "source": [
    "# Replace None with appropriate text\n",
    "\"\"\"\n",
    "higher number of reviews associated with low ratings\n",
    "\"\"\""
   ]
  },
  {
   "cell_type": "markdown",
   "metadata": {},
   "source": [
    "## 4. Create a Folium Map\n",
    "\n",
    "Make a map using Folium of the businesses you retrieved. Be sure to also add popups to the markers giving some basic information such as name, rating and price.\n",
    "\n",
    "You can center the map around the latitude and longitude of the first item in `full_dataset`."
   ]
  },
  {
   "cell_type": "code",
   "execution_count": 20,
   "metadata": {},
   "outputs": [
    {
     "data": {
      "text/html": [
       "<div style=\"width:100%;\"><div style=\"position:relative;width:100%;height:0;padding-bottom:60%;\"><span style=\"color:#565656\">Make this Notebook Trusted to load map: File -> Trust Notebook</span><iframe src=\"about:blank\" style=\"position:absolute;width:100%;height:100%;left:0;top:0;border:none !important;\" data-html=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 onload=\"this.contentDocument.open();this.contentDocument.write(atob(this.getAttribute('data-html')));this.contentDocument.close();\" allowfullscreen webkitallowfullscreen mozallowfullscreen></iframe></div></div>"
      ],
      "text/plain": [
       "<folium.folium.Map at 0x161573d1eb0>"
      ]
     },
     "execution_count": 20,
     "metadata": {},
     "output_type": "execute_result"
    }
   ],
   "source": [
    "# Replace None with appropriate code\n",
    "\n",
    "# Import the library\n",
    "import folium\n",
    "\n",
    "\n",
    "# Set up center latitude and longitude\n",
    "center_lat = full_dataset[0]['latitude']\n",
    "center_long = full_dataset[0]['longitude']\n",
    "# Initialize map with center lat and long\n",
    "yelp_map = folium.Map(location=[center_lat, center_long], zoom_start=13)\n",
    "# Adjust this limit to see more or fewer businesses\n",
    "limit=100\n",
    "\n",
    "for business in full_dataset[:limit]:\n",
    "    # Extract information about business\n",
    "    lat = business['latitude']\n",
    "    long = business['longitude']\n",
    "    name = business['name']\n",
    "    rating = business['rating']\n",
    "    price = business['price']\n",
    "    details = \"{}\\nPrice: {} Rating:{}\".format(name,price,rating)\n",
    "  \n",
    "    # Create popup with relevant details\n",
    "    popup = folium.Popup(details, max_width=300)\n",
    "    \n",
    "    # Create marker with relevant lat/long and popup\n",
    "    marker = folium.Marker(location=[lat, long], popup=popup)\n",
    "    \n",
    "    marker.add_to(yelp_map)\n",
    "    \n",
    "yelp_map"
   ]
  },
  {
   "cell_type": "markdown",
   "metadata": {},
   "source": [
    "## Summary\n",
    "\n",
    "Nice work! In this lab, you've made multiple API calls to Yelp in order to paginate through a results set, performing some basic exploratory analysis and then creating a nice interactive map to display the results using Folium! Well done!"
   ]
  },
  {
   "cell_type": "code",
   "execution_count": null,
   "metadata": {},
   "outputs": [],
   "source": []
  }
 ],
 "metadata": {
  "kernelspec": {
   "display_name": "Python 3",
   "language": "python",
   "name": "python3"
  },
  "language_info": {
   "codemirror_mode": {
    "name": "ipython",
    "version": 3
   },
   "file_extension": ".py",
   "mimetype": "text/x-python",
   "name": "python",
   "nbconvert_exporter": "python",
   "pygments_lexer": "ipython3",
   "version": "3.8.5"
  },
  "toc": {
   "base_numbering": 1,
   "nav_menu": {},
   "number_sections": true,
   "sideBar": true,
   "skip_h1_title": false,
   "title_cell": "Table of Contents",
   "title_sidebar": "Contents",
   "toc_cell": false,
   "toc_position": {},
   "toc_section_display": true,
   "toc_window_display": false
  }
 },
 "nbformat": 4,
 "nbformat_minor": 2
}
