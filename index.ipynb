{
 "cells": [
  {
   "cell_type": "markdown",
   "metadata": {},
   "source": [
    "# APIs - Cumulative Lab\n",
    "\n",
    "\n",
    "## Introduction \n",
    "\n",
    "We've seen how the Yelp API works and how to create basic visualizations using Folium. It's time to put those skills to work in order to create a working map! Taking things a step further, you'll also independently explore how to perform pagination in order to retrieve a full results set from the Yelp API.\n",
    "\n",
    "## Objectives\n",
    "\n",
    "You will be able to: \n",
    "\n",
    "* Practice using functions to organize your code\n",
    "* Use pagination to retrieve all results from an API query\n",
    "* Practice parsing data returned from an API query\n",
    "* Practice interpreting visualizations of a dataset\n",
    "* Create maps using Folium"
   ]
  },
  {
   "cell_type": "markdown",
   "metadata": {},
   "source": [
    "## Your Task: Query Yelp for All Businesses in a Category and Analyze the Results\n",
    "\n",
    "![restaurant counter with pizza](images/restaurant_counter.jpg)\n",
    "\n",
    "Photo by <a href=\"https://unsplash.com/@jordanmadrid?utm_source=unsplash&utm_medium=referral&utm_content=creditCopyText\">Jordan Madrid</a> on <a href=\"/s/photos/pizza-restaurant?utm_source=unsplash&utm_medium=referral&utm_content=creditCopyText\">Unsplash</a>"
   ]
  },
  {
   "cell_type": "markdown",
   "metadata": {},
   "source": [
    "### Overview\n",
    "\n",
    "You've now worked with some API calls, but we have yet to see how to retrieve a more complete dataset in a programmatic manner. In this lab, you will write a query of businesses on Yelp, then use *pagination* to retrieve all possible results for that query. Then you will create a summary of your findings, including a Folium map of the geographic locations of those businesses.\n",
    "\n",
    "### Technical Details\n",
    "\n",
    "Returning to the Yelp API, the [documentation](https://www.yelp.com/developers/documentation/v3/business_search) also provides us details regarding the **API limits**. These often include details about the number of requests a user is allowed to make within a specified time limit and the maximum number of results to be returned. In this case, we are told that any request has a **maximum of 50 results per request** and defaults to 20. Furthermore, any search will be limited to a **total of 1000 results**. To retrieve all 1000 of these results, we would have to page through the results piece by piece, retrieving 50 at a time. Processes such as these are often referred to as pagination.\n",
    "\n",
    "Also, be mindful of the **API** ***rate*** **limits**. You can only make **5000 requests per day** and can make requests too fast. Start prototyping small before running a loop that could be faulty. You can also use `time.sleep(n)` to add delays. For more details see https://www.yelp.com/developers/documentation/v3/rate_limiting.\n",
    "\n",
    "In this lab, you will define a search and then paginate over the results to retrieve all of the results. You'll then parse these responses as a list of dictionaries (for further exploration) and create a map using Folium to visualize the results geographically.\n",
    "\n",
    "### Requirements\n",
    "\n",
    "#### 1. Make the Initial Request\n",
    "\n",
    "Start by filling in your API key to make the initial request to the business search API. Investigate the structure of the response you get back and start figuring out how you will extract the relevant information.\n",
    "\n",
    "#### 2. Add Pagination\n",
    "\n",
    "Using loops and functions, collect the maximum number of results for your query from the API.\n",
    "\n",
    "#### 3. Perform Exploratory Analysis\n",
    "\n",
    "Interpret visualizations related to the price range, average rating, and number of reviews for all query results.\n",
    "\n",
    "#### 4. Create a Folium Map\n",
    "\n",
    "Using latitude and longitude data, plot the query results on an interactive map."
   ]
  },
  {
   "cell_type": "markdown",
   "metadata": {},
   "source": [
    "## 1. Make the Initial Request\n",
    "\n",
    "### Querying\n",
    "\n",
    "Start by making an initial request to the Yelp API. Your search must include at least 2 parameters: **term** and **location**. For example, you might search for pizza restaurants in NYC. The term and location is up to you but make the request below.\n",
    "\n",
    "Use the `requests` library ([documentation here](https://requests.readthedocs.io/en/master/user/quickstart/#make-a-request)).\n",
    "\n",
    "You'll also need an API key from Yelp. If you haven't done this already, go to the Yelp [Manage App page](https://www.yelp.com/developers/v3/manage_app) and create a new app (after making an account if you haven't already)."
   ]
  },
  {
   "cell_type": "code",
   "execution_count": 1,
   "metadata": {},
   "outputs": [
    {
     "data": {
      "text/plain": [
       "<Response [200]>"
      ]
     },
     "execution_count": 1,
     "metadata": {},
     "output_type": "execute_result"
    }
   ],
   "source": [
    "# Replace None with appropriate code\n",
    "\n",
    "# Import the requests library\n",
    "import requests\n",
    "\n",
    "# Get this from the \"Manage App\" page. Make sure you set them\n",
    "# back to None before pushing this to GitHub, since otherwise\n",
    "# your credentials will be compromised\n",
    "api_key = '6sjzx8gt3rL3WBlsfyE_GcZQTRmmWcwMRjOrHTfbxBQN4fUHuSu5iL9kMbGH3M1kWdeIYDzpQcgNyZditSuQ_yNePyAGkZVuALV8rjmkEj6hk6Ft5NtNYWm8aTG1ZHYx'\n",
    "\n",
    "# These can be whatever you want! But the solution uses \"pizza\"\n",
    "# and \"New York NY\" if you want to compare your work directly\n",
    "term = 'Croissant'\n",
    "location = 'Paris'\n",
    "\n",
    "# Set up params for request\n",
    "url = \"https://api.yelp.com/v3/businesses/search\"\n",
    "headers = {\n",
    "    \"Authorization\": \"Bearer {}\".format(api_key)\n",
    "}\n",
    "url_params = {\n",
    "    \"term\": term.replace(\" \", \"+\"),\n",
    "    \"location\": location.replace(\" \", \"+\")\n",
    "}\n",
    "\n",
    "# Make the request using requests.get, passing in\n",
    "# url, headers=headers, and params=url_params\n",
    "response = requests.get(url, headers=headers, params=url_params)\n",
    "# Confirm we got a 200 response\n",
    "response"
   ]
  },
  {
   "cell_type": "code",
   "execution_count": 2,
   "metadata": {},
   "outputs": [
    {
     "data": {
      "text/plain": [
       "dict_keys(['businesses', 'total', 'region'])"
      ]
     },
     "execution_count": 2,
     "metadata": {},
     "output_type": "execute_result"
    }
   ],
   "source": [
    "# Run this cell without changes\n",
    "\n",
    "# Get the response body in JSON format\n",
    "response_json = response.json()\n",
    "# View the keys\n",
    "response_json.keys()"
   ]
  },
  {
   "cell_type": "markdown",
   "metadata": {},
   "source": [
    "### Extracting Data\n",
    "\n",
    "Now, retrieve the value associated with the `'businesses'` key, and inspect its contents."
   ]
  },
  {
   "cell_type": "code",
   "execution_count": 3,
   "metadata": {},
   "outputs": [
    {
     "data": {
      "text/plain": [
       "[{'id': 'iuuAbuOeayVwqhxYWHuGRA',\n",
       "  'alias': 'la-maison-d-isabelle-paris',\n",
       "  'name': \"La Maison d'Isabelle\",\n",
       "  'image_url': 'https://s3-media3.fl.yelpcdn.com/bphoto/EtUeLd18mv3kL2I-A-FNBw/o.jpg',\n",
       "  'is_closed': False,\n",
       "  'url': 'https://www.yelp.com/biz/la-maison-d-isabelle-paris?adjust_creative=H7TOJFwbiM-8N3koqzTUFQ&utm_campaign=yelp_api_v3&utm_medium=api_v3_business_search&utm_source=H7TOJFwbiM-8N3koqzTUFQ',\n",
       "  'review_count': 88,\n",
       "  'categories': [{'alias': 'bakeries', 'title': 'Bakeries'}],\n",
       "  'rating': 5.0,\n",
       "  'coordinates': {'latitude': 48.849847, 'longitude': 2.348264},\n",
       "  'transactions': [],\n",
       "  'price': '€',\n",
       "  'location': {'address1': '47ter boulevard Saint-Germain',\n",
       "   'address2': '',\n",
       "   'address3': None,\n",
       "   'city': 'Paris',\n",
       "   'zip_code': '75005',\n",
       "   'country': 'FR',\n",
       "   'state': '75',\n",
       "   'display_address': ['47ter boulevard Saint-Germain',\n",
       "    '75005 Paris',\n",
       "    'France']},\n",
       "  'phone': '+33143540414',\n",
       "  'display_phone': '+33 1 43 54 04 14',\n",
       "  'distance': 1419.1390529615662},\n",
       " {'id': 'OlKlrqbTx94iMPuakMs0Pw',\n",
       "  'alias': 'du-pain-et-des-idées-paris-10-2',\n",
       "  'name': 'Du Pain et des Idées',\n",
       "  'image_url': 'https://s3-media3.fl.yelpcdn.com/bphoto/dnC4NDpMIz_Ng7N6-VEPXw/o.jpg',\n",
       "  'is_closed': False,\n",
       "  'url': 'https://www.yelp.com/biz/du-pain-et-des-id%C3%A9es-paris-10-2?adjust_creative=H7TOJFwbiM-8N3koqzTUFQ&utm_campaign=yelp_api_v3&utm_medium=api_v3_business_search&utm_source=H7TOJFwbiM-8N3koqzTUFQ',\n",
       "  'review_count': 478,\n",
       "  'categories': [{'alias': 'bakeries', 'title': 'Bakeries'}],\n",
       "  'rating': 4.5,\n",
       "  'coordinates': {'latitude': 48.8712, 'longitude': 2.3628999},\n",
       "  'transactions': [],\n",
       "  'price': '€',\n",
       "  'location': {'address1': '34 rue Yves Toudic',\n",
       "   'address2': None,\n",
       "   'address3': None,\n",
       "   'city': 'Paris 10',\n",
       "   'zip_code': '75010',\n",
       "   'country': 'FR',\n",
       "   'state': '75',\n",
       "   'display_address': ['34 rue Yves Toudic', '75010 Paris 10', 'France']},\n",
       "  'phone': '+33142404452',\n",
       "  'display_phone': '+33 1 42 40 44 52',\n",
       "  'distance': 1835.2944750516774}]"
      ]
     },
     "execution_count": 3,
     "metadata": {},
     "output_type": "execute_result"
    }
   ],
   "source": [
    "# Replace None with appropriate code\n",
    "\n",
    "# Retrieve the value from response_json\n",
    "businesses = response_json[\"businesses\"]\n",
    "\n",
    "# View the first 2 records\n",
    "businesses[:2]"
   ]
  },
  {
   "cell_type": "markdown",
   "metadata": {},
   "source": [
    "### Preparing Data\n",
    "\n",
    "Write a function `prepare_data` that takes in a list of dictionaries like `businesses` and returns a copy that has been prepared for analysis:\n",
    "\n",
    "1. The `coordinates` key-value pair has been converted into two separate key-value pairs, `latitude` and `longitude`\n",
    "2. All other key-value pairs except for `name`, `review_count`, `rating`, and `price` have been dropped\n",
    "3. All dictionaries missing one of the relevant keys or containing null values have been dropped\n",
    "\n",
    "In other words, the final keys for each dictionary should be `name`, `review_count`, `rating`, `price`, `latitude`, and `longitude`.\n",
    "\n",
    "Complete the function in the cell below:"
   ]
  },
  {
   "cell_type": "code",
   "execution_count": 4,
   "metadata": {},
   "outputs": [
    {
     "data": {
      "text/plain": [
       "[{'name': \"La Maison d'Isabelle\",\n",
       "  'review_count': 88,\n",
       "  'rating': 5.0,\n",
       "  'price': '€',\n",
       "  'latitude': 48.849847,\n",
       "  'longitude': 2.348264},\n",
       " {'name': 'Du Pain et des Idées',\n",
       "  'review_count': 478,\n",
       "  'rating': 4.5,\n",
       "  'price': '€',\n",
       "  'latitude': 48.8712,\n",
       "  'longitude': 2.3628999},\n",
       " {'name': 'Boulangerie Julien',\n",
       "  'review_count': 158,\n",
       "  'rating': 4.5,\n",
       "  'price': '€',\n",
       "  'latitude': 48.86109,\n",
       "  'longitude': 2.344109},\n",
       " {'name': 'Blé Sucré',\n",
       "  'review_count': 316,\n",
       "  'rating': 4.5,\n",
       "  'price': '€',\n",
       "  'latitude': 48.850565,\n",
       "  'longitude': 2.376759},\n",
       " {'name': 'Joseph',\n",
       "  'review_count': 35,\n",
       "  'rating': 4.5,\n",
       "  'price': '€',\n",
       "  'latitude': 48.867586,\n",
       "  'longitude': 2.334884}]"
      ]
     },
     "execution_count": 4,
     "metadata": {},
     "output_type": "execute_result"
    }
   ],
   "source": [
    "# Replace None with appropriate code\n",
    "\n",
    "def prepare_data(data_list):\n",
    "    \"\"\"\n",
    "    This function takes in a list of dictionaries and prepares it\n",
    "    for analysis\n",
    "    \"\"\"\n",
    "    \n",
    "    # Make a new list to hold results\n",
    "    results = []\n",
    "    \n",
    "    for business_data in data_list:\n",
    "    \n",
    "        # Make a new dictionary to hold prepared data for this business\n",
    "        prepared_data = {}\n",
    "        \n",
    "        # Extract name, review_count, rating, and price key-value pairs\n",
    "        # from business_data and add to prepared_data\n",
    "        # If a key is not present in business_data, add it to prepared_data\n",
    "        # with an associated value of None\n",
    "        prepared_data['name'] = business_data.get('name', None)\n",
    "        prepared_data['review_count'] = business_data.get('review_count', None)\n",
    "        prepared_data['rating'] = business_data.get('rating', None)\n",
    "        prepared_data['price'] = business_data.get('price', None)\n",
    "    \n",
    "        # Parse and add latitude and longitude columns\n",
    "        try:\n",
    "            coordinates = business_data['coordinates']\n",
    "            prepared_data['latitude'] = coordinates['latitude']\n",
    "            prepared_data['longitude'] = coordinates['longitude']\n",
    "        except KeyError:\n",
    "            prepared_data['latitude'] = None\n",
    "            prepared_data['longitude'] = None\n",
    "        \n",
    "        # Add to list if all values are present\n",
    "        if all(prepared_data.values()):\n",
    "            results.append(prepared_data)\n",
    "    \n",
    "    return results\n",
    "    \n",
    "# Test out function\n",
    "prepared_businesses = prepare_data(businesses)\n",
    "prepared_businesses[:5]"
   ]
  },
  {
   "cell_type": "markdown",
   "metadata": {},
   "source": [
    "Check that your function created the correct keys:"
   ]
  },
  {
   "cell_type": "code",
   "execution_count": 5,
   "metadata": {},
   "outputs": [],
   "source": [
    "# Run this cell without changes\n",
    "\n",
    "assert sorted(list(prepared_businesses[0].keys())) == ['latitude', 'longitude', 'name', 'price', 'rating', 'review_count']"
   ]
  },
  {
   "cell_type": "markdown",
   "metadata": {},
   "source": [
    "The following code will differ depending on your query, but we expect there to be 20 businesses in the original list, and potentially fewer in the prepared list (if any of them were missing data):"
   ]
  },
  {
   "cell_type": "code",
   "execution_count": 6,
   "metadata": {},
   "outputs": [
    {
     "name": "stdout",
     "output_type": "stream",
     "text": [
      "Original: 20\n",
      "Prepared: 19\n"
     ]
    }
   ],
   "source": [
    "# Run this cell without changes\n",
    "print(\"Original:\", len(businesses))\n",
    "print(\"Prepared:\", len(prepared_businesses))"
   ]
  },
  {
   "cell_type": "markdown",
   "metadata": {},
   "source": [
    "Great! We will reuse this function once we have retrieved the full dataset."
   ]
  },
  {
   "cell_type": "markdown",
   "metadata": {},
   "source": [
    "## 2. Add Pagination\n",
    "\n",
    "Now that you are able to extract information from one page of the response, let's figure out how to request as many pages as possible.\n",
    "\n",
    "### Determining the Total\n",
    "\n",
    "Depending on the number of total results for your query, you will either retrieve all of the results, or just the first 1000 (if there are more than 1000 total).\n",
    "\n",
    "We can find the total number of results using the `\"total\"` key:"
   ]
  },
  {
   "cell_type": "code",
   "execution_count": 7,
   "metadata": {},
   "outputs": [
    {
     "data": {
      "text/plain": [
       "1100"
      ]
     },
     "execution_count": 7,
     "metadata": {},
     "output_type": "execute_result"
    }
   ],
   "source": [
    "# Run this cell without changes\n",
    "response_json[\"total\"]"
   ]
  },
  {
   "cell_type": "markdown",
   "metadata": {},
   "source": [
    "(This is specific to the implementation of the Yelp API. Some APIs will just tell you that there are more pages, or will tell you the number of pages total, rather than the total number of results. If you're not sure, always check the documentation.)\n",
    "\n",
    "In the cell below, assign the variable `total` to either the value shown above (if it is less than 1000), or 1000."
   ]
  },
  {
   "cell_type": "code",
   "execution_count": 8,
   "metadata": {},
   "outputs": [],
   "source": [
    "# Replace None with appropriate code\n",
    "total = 1000"
   ]
  },
  {
   "cell_type": "markdown",
   "metadata": {},
   "source": [
    "### Calculating the Offsets\n",
    "\n",
    "The documentation states in the parameters section:\n",
    "\n",
    "> **Name**: `limit`, **Type:** int, **Description:** Optional. Number of business results to return. By default, it will return 20. Maximum is 50.\n",
    "\n",
    "> **Name**: `offset`, **Type:** int, **Description:** Optional. Offset the list of returned business results by this amount.\n",
    "\n",
    "So, to get the most results with the fewest API calls we want to set a limit of 50 every time. If, say, we wanted to get 210 total results, that would mean:\n",
    "\n",
    "1. Offset of `0` (first 50 records)\n",
    "2. Offset of `50` (second 50 records)\n",
    "3. Offset of `100` (third 50 records)\n",
    "4. Offset of `150` (fourth 50 records)\n",
    "5. Offset of `200` (final 10 records)\n",
    "\n",
    "In the cell below, create a function `get_offsets` that takes in a total and returns a list of offsets for that total. You can assume that there is a limit of 50 every time.\n",
    "\n",
    "*Hint: you can use `range` ([documentation here](https://docs.python.org/3.3/library/stdtypes.html?highlight=range#range)) to do this in one line of code. Just make the returned result is a list.*"
   ]
  },
  {
   "cell_type": "code",
   "execution_count": 9,
   "metadata": {},
   "outputs": [],
   "source": [
    "# Replace None with appropriate code\n",
    "def get_offsets(total):\n",
    "    \"\"\"\n",
    "    Get a list of offsets needed to get all pages\n",
    "    of data up until the total\n",
    "    \"\"\"\n",
    "    return list(range(0, total, 50))"
   ]
  },
  {
   "cell_type": "markdown",
   "metadata": {},
   "source": [
    "Check that your function works below:"
   ]
  },
  {
   "cell_type": "code",
   "execution_count": 10,
   "metadata": {},
   "outputs": [],
   "source": [
    "# Run this cell without changes\n",
    "\n",
    "assert get_offsets(200) == [0, 50, 100, 150]\n",
    "assert get_offsets(210) == [0, 50, 100, 150, 200]"
   ]
  },
  {
   "cell_type": "markdown",
   "metadata": {},
   "source": [
    "### Putting It All Together\n",
    "\n",
    "Recall that the following variable has already been declared for you:"
   ]
  },
  {
   "cell_type": "code",
   "execution_count": 11,
   "metadata": {},
   "outputs": [
    {
     "data": {
      "text/plain": [
       "{'term': 'Croissant', 'location': 'Paris'}"
      ]
     },
     "execution_count": 11,
     "metadata": {},
     "output_type": "execute_result"
    }
   ],
   "source": [
    "# Run this cell without changes\n",
    "url_params"
   ]
  },
  {
   "cell_type": "markdown",
   "metadata": {},
   "source": [
    "We'll go ahead and also specify that the limit should be 50 every time:"
   ]
  },
  {
   "cell_type": "code",
   "execution_count": 12,
   "metadata": {},
   "outputs": [],
   "source": [
    "# Run this cell without changes\n",
    "url_params[\"limit\"] = 50"
   ]
  },
  {
   "cell_type": "markdown",
   "metadata": {},
   "source": [
    "In order to modify the offset, you'll need to add it to `url_params` with the key `\"offset\"` and whatever value is needed.\n",
    "\n",
    "In the cell below, write code that:\n",
    "\n",
    "* Creates an empty list for the full prepared dataset\n",
    "* Loops over all of the offsets from `get_offsets` and makes an API call each time with the specified offset\n",
    "* Calls `prepare_data` to get a cleaned version of the result of each API call\n",
    "* Extends the full prepared dataset list with each query's prepared dataset"
   ]
  },
  {
   "cell_type": "code",
   "execution_count": 13,
   "metadata": {},
   "outputs": [
    {
     "data": {
      "text/plain": [
       "832"
      ]
     },
     "execution_count": 13,
     "metadata": {},
     "output_type": "execute_result"
    }
   ],
   "source": [
    "# Replace None with appropriate code\n",
    "\n",
    "# Create an empty list for the full prepared dataset\n",
    "full_dataset = []\n",
    "\n",
    "for offset in get_offsets(total):\n",
    "    # Add or update the \"offset\" key-value pair in url_params\n",
    "    url_params[\"offset\"] = offset\n",
    "    \n",
    "    # Make the query and get the response\n",
    "    response = requests.get(url, headers=headers, params=url_params)\n",
    "    \n",
    "    # Get the response body in JSON format\n",
    "    response_json = response.json()\n",
    "    \n",
    "    # Get the list of businesses from the response_json\n",
    "    businesses = response_json.get(\"businesses\", [])\n",
    "    \n",
    "    # Call the prepare_data function to get a list of processed data\n",
    "    prepared_businesses = prepare_data(businesses)\n",
    "    \n",
    "    # Extend full_dataset with this list (don't append, or you'll get\n",
    "    # a list of lists instead of a flat list)\n",
    "    full_dataset.extend(prepared_businesses)\n",
    "\n",
    "# Check the length of the full dataset. It will be up to `total`,\n",
    "# potentially less if there were missing values\n",
    "len(full_dataset)"
   ]
  },
  {
   "cell_type": "markdown",
   "metadata": {},
   "source": [
    "This code may take up to a few minutes to run.\n",
    "\n",
    "If you get an error trying to get the response body in JSON format, try adding `time.sleep(1)` right after the `requests.get` line, so your code will sleep for 1 second between each API call."
   ]
  },
  {
   "cell_type": "markdown",
   "metadata": {},
   "source": [
    "## 3. Perform Exploratory Analysis\n",
    "\n",
    "Take the businesses from the previous question and do an initial exploratory analysis. We have provided some plots for you to interpret:"
   ]
  },
  {
   "cell_type": "code",
   "execution_count": 14,
   "metadata": {},
   "outputs": [
    {
     "data": {
      "image/png": "[encoded data removed]",
      "text/plain": [
       "<Figure size 1152x360 with 3 Axes>"
      ]
     },
     "metadata": {
      "needs_background": "light"
     },
     "output_type": "display_data"
    }
   ],
   "source": [
    "# Run this cell without changes\n",
    "from collections import Counter\n",
    "import matplotlib.pyplot as plt\n",
    "%matplotlib inline\n",
    "\n",
    "fig, (ax1, ax2, ax3) = plt.subplots(ncols=3, figsize=(16, 5))\n",
    "\n",
    "# Plot distribution of number of reviews\n",
    "all_review_counts = [x[\"review_count\"] for x in full_dataset]\n",
    "ax1.hist(all_review_counts)\n",
    "ax1.set_title(\"Review Count Distribution\")\n",
    "ax1.set_xlabel(\"Number of Reviews\")\n",
    "ax1.set_ylabel(\"Number of Businesses\")\n",
    "\n",
    "# Plot rating distribution\n",
    "all_ratings = [x[\"rating\"] for x in full_dataset]\n",
    "rating_counter = Counter(all_ratings)\n",
    "rating_keys = sorted(rating_counter.keys())\n",
    "ax2.bar(rating_keys, [rating_counter[key] for key in rating_keys])\n",
    "ax2.set_title(\"Rating Distribution\")\n",
    "ax2.set_xlabel(\"Rating\")\n",
    "ax2.set_ylabel(\"Number of Businesses\")\n",
    "\n",
    "# Plot price distribution\n",
    "all_prices = [x[\"price\"].replace(\"$\", r\"\\$\") for x in full_dataset]\n",
    "price_counter = Counter(all_prices)\n",
    "price_keys = sorted(price_counter.keys())\n",
    "ax3.bar(price_keys, [price_counter[key] for key in price_keys])\n",
    "ax3.set_title(\"Price Distribution\")\n",
    "ax3.set_xlabel(\"Price Category\")\n",
    "ax3.set_ylabel(\"Number of Businesses\");"
   ]
  },
  {
   "cell_type": "markdown",
   "metadata": {},
   "source": [
    "Describe the distributions displayed above and interpret them in the context of your query. (Your answer may differ from the solution branch depending on your query.)"
   ]
  },
  {
   "cell_type": "code",
   "execution_count": 15,
   "metadata": {},
   "outputs": [
    {
     "data": {
      "text/plain": [
       "'\\nIn the review count distribution, most businesses have fewer than 5000 reviews, but some businesses have as many as 2000 reviews. This kind of skewed distribution is common in ratings and reviews data \\n\\nTypical rating for croisants businesses in Paris is 4/5\\n\\n\\nPrice is skewed with most busineses falling under ££ price point\\n'"
      ]
     },
     "execution_count": 15,
     "metadata": {},
     "output_type": "execute_result"
    }
   ],
   "source": [
    "# Replace None with appropriate text\n",
    "\"\"\"\n",
    "In the review count distribution, most businesses have fewer than 5000 reviews, but some businesses have as many as 2000 reviews. This kind of skewed distribution is common in ratings and reviews data \n",
    "\n",
    "Typical rating for croisants businesses in Paris is 4/5\n",
    "\n",
    "\n",
    "Price is skewed with most busineses falling under ££ price point\n",
    "\"\"\""
   ]
  },
  {
   "cell_type": "markdown",
   "metadata": {},
   "source": [
    "In the cell below, we also plot the rating distributions by price. In this setup, a price of one dollar sign is \"lower price\" and everything else is \"higher price\"."
   ]
  },
  {
   "cell_type": "code",
   "execution_count": 16,
   "metadata": {},
   "outputs": [
    {
     "name": "stderr",
     "output_type": "stream",
     "text": [
      "C:\\Users\\Admin\\anaconda3\\envs\\learn-env\\lib\\site-packages\\numpy\\lib\\histograms.py:906: RuntimeWarning: invalid value encountered in true_divide\n",
      "  return n/db/n.sum(), bin_edges\n"
     ]
    },
    {
     "data": {
      "image/png": "[encoded data removed]",
      "text/plain": [
       "<Figure size 432x288 with 1 Axes>"
      ]
     },
     "metadata": {
      "needs_background": "light"
     },
     "output_type": "display_data"
    }
   ],
   "source": [
    "# Run this cell without changes\n",
    "\n",
    "higher_price = []\n",
    "lower_price = []\n",
    "for row in full_dataset:\n",
    "    if row[\"price\"] == \"$\":\n",
    "        lower_price.append(row[\"rating\"])\n",
    "    else:\n",
    "        higher_price.append(row[\"rating\"])\n",
    "        \n",
    "fig, ax = plt.subplots()\n",
    "\n",
    "ax.hist([higher_price, lower_price], label=[\"higher price\", \"lower price\"], density=True)\n",
    "\n",
    "ax.legend();"
   ]
  },
  {
   "cell_type": "markdown",
   "metadata": {},
   "source": [
    "Is a higher price associated with a higher rating? (No need for any additional math/statistics, just interpret what you see in the plot.)"
   ]
  },
  {
   "cell_type": "code",
   "execution_count": 17,
   "metadata": {},
   "outputs": [
    {
     "data": {
      "text/plain": [
       "'\\nhigher price seems to be associated with a higher rating.no ratings for lower price\\n'"
      ]
     },
     "execution_count": 17,
     "metadata": {},
     "output_type": "execute_result"
    }
   ],
   "source": [
    "# Replace None with appropriate text\n",
    "\"\"\"\n",
    "higher price seems to be associated with a higher rating.no ratings for lower price\n",
    "\"\"\""
   ]
  },
  {
   "cell_type": "markdown",
   "metadata": {},
   "source": [
    "Finally, let's look at ratings vs. review counts:"
   ]
  },
  {
   "cell_type": "code",
   "execution_count": 18,
   "metadata": {},
   "outputs": [
    {
     "data": {
      "image/png": "[encoded data removed]",
      "text/plain": [
       "<Figure size 1152x360 with 1 Axes>"
      ]
     },
     "metadata": {
      "needs_background": "light"
     },
     "output_type": "display_data"
    }
   ],
   "source": [
    "# Run this cell without changes\n",
    "fig, ax = plt.subplots(figsize=(16,5))\n",
    "\n",
    "ax.scatter(all_review_counts, all_ratings, alpha=0.2)\n",
    "ax.set_xlabel(\"Number of Reviews\")\n",
    "ax.set_ylabel(\"Rating\")\n",
    "# \"zoom in\" to a subset of review counts\n",
    "ax.set_xlim(left=0, right=1000);"
   ]
  },
  {
   "cell_type": "markdown",
   "metadata": {},
   "source": [
    "Is a higher number of reviews associated with a higher rating?"
   ]
  },
  {
   "cell_type": "code",
   "execution_count": 19,
   "metadata": {},
   "outputs": [
    {
     "data": {
      "text/plain": [
       "'\\nhigher number of reviews associated with low ratings\\n'"
      ]
     },
     "execution_count": 19,
     "metadata": {},
     "output_type": "execute_result"
    }
   ],
   "source": [
    "# Replace None with appropriate text\n",
    "\"\"\"\n",
    "higher number of reviews associated with low ratings\n",
    "\"\"\""
   ]
  },
  {
   "cell_type": "markdown",
   "metadata": {},
   "source": [
    "## 4. Create a Folium Map\n",
    "\n",
    "Make a map using Folium of the businesses you retrieved. Be sure to also add popups to the markers giving some basic information such as name, rating and price.\n",
    "\n",
    "You can center the map around the latitude and longitude of the first item in `full_dataset`."
   ]
  },
  {
   "cell_type": "code",
   "execution_count": 20,
   "metadata": {},
   "outputs": [
    {
     "data": {
      "text/html": [
       "<div style=\"width:100%;\"><div style=\"position:relative;width:100%;height:0;padding-bottom:60%;\"><span style=\"color:#565656\">Make this Notebook Trusted to load map: File -> Trust Notebook</span><iframe src=\"about:blank\" style=\"position:absolute;width:100%;height:100%;left:0;top:0;border:none !important;\" data-html=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 onload=\"this.contentDocument.open();this.contentDocument.write(atob(this.getAttribute('data-html')));this.contentDocument.close();\" allowfullscreen webkitallowfullscreen mozallowfullscreen></iframe></div></div>"
      ],
      "text/plain": [
       "<folium.folium.Map at 0x1f1a600d3d0>"
      ]
     },
     "execution_count": 20,
     "metadata": {},
     "output_type": "execute_result"
    }
   ],
   "source": [
    "# Replace None with appropriate code\n",
    "\n",
    "# Import the library\n",
    "import folium\n",
    "\n",
    "\n",
    "# Set up center latitude and longitude\n",
    "center_lat = full_dataset[0]['latitude']\n",
    "center_long = full_dataset[0]['longitude']\n",
    "# Initialize map with center lat and long\n",
    "yelp_map = folium.Map(location=[center_lat, center_long], zoom_start=13)\n",
    "# Adjust this limit to see more or fewer businesses\n",
    "limit=100\n",
    "\n",
    "for business in full_dataset[:limit]:\n",
    "    # Extract information about business\n",
    "    lat = business['latitude']\n",
    "    long = business['longitude']\n",
    "    name = business['name']\n",
    "    rating = business['rating']\n",
    "    price = business['price']\n",
    "    details = \"{}\\nPrice: {} Rating:{}\".format(name,price,rating)\n",
    "  \n",
    "    # Create popup with relevant details\n",
    "    popup = folium.Popup(details, max_width=300)\n",
    "    \n",
    "    # Create marker with relevant lat/long and popup\n",
    "    marker = folium.Marker(location=[lat, long], popup=popup)\n",
    "    \n",
    "    marker.add_to(yelp_map)\n",
    "    \n",
    "yelp_map"
   ]
  },
  {
   "cell_type": "markdown",
   "metadata": {},
   "source": [
    "## Summary\n",
    "\n",
    "Nice work! In this lab, you've made multiple API calls to Yelp in order to paginate through a results set, performing some basic exploratory analysis and then creating a nice interactive map to display the results using Folium! Well done!"
   ]
  },
  {
   "cell_type": "code",
   "execution_count": null,
   "metadata": {},
   "outputs": [],
   "source": []
  }
 ],
 "metadata": {
  "kernelspec": {
   "display_name": "Python 3",
   "language": "python",
   "name": "python3"
  },
  "language_info": {
   "codemirror_mode": {
    "name": "ipython",
    "version": 3
   },
   "file_extension": ".py",
   "mimetype": "text/x-python",
   "name": "python",
   "nbconvert_exporter": "python",
   "pygments_lexer": "ipython3",
   "version": "3.8.5"
  },
  "toc": {
   "base_numbering": 1,
   "nav_menu": {},
   "number_sections": true,
   "sideBar": true,
   "skip_h1_title": false,
   "title_cell": "Table of Contents",
   "title_sidebar": "Contents",
   "toc_cell": false,
   "toc_position": {},
   "toc_section_display": true,
   "toc_window_display": false
  }
 },
 "nbformat": 4,
 "nbformat_minor": 2
}
